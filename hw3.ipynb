{
 "cells": [
  {
   "cell_type": "code",
   "execution_count": 1,
   "source": [
    "import re\r\n",
    "import pandas as pds\r\n",
    "import jieba\r\n",
    "import jieba.analyse\r\n",
    "from sklearn.feature_extraction.text import CountVectorizer\r\n",
    "from sklearn.feature_extraction.text import TfidfTransformer\r\n",
    "from sklearn.neighbors import KNeighborsClassifier\r\n",
    "from sklearn.model_selection import train_test_split  \r\n",
    "from sklearn import metrics\r\n"
   ],
   "outputs": [],
   "metadata": {}
  },
  {
   "cell_type": "code",
   "execution_count": 2,
   "source": [
    "def cutvalue(item):\r\n",
    "    topcut = []\r\n",
    "    for n in item['簡介']:\r\n",
    "        top = jieba.analyse.extract_tags(n,topK=2)\r\n",
    "        topcut.append(top)\r\n",
    "\r\n",
    "    typecut = []\r\n",
    "    for n in item['類型']:\r\n",
    "        ch =re.compile(\"[\\u4e00-\\u9fa5]\")\r\n",
    "        seg_word =  \"\".join(ch.findall(n))\r\n",
    "        top = jieba.lcut(seg_word)\r\n",
    "        typecut.append(top)\r\n",
    "\r\n",
    "    namecut = []\r\n",
    "    for n in item['中文名稱']:\r\n",
    "        ch =re.compile(\"[\\u4e00-\\u9fa5]\")\r\n",
    "        name =  \"\".join(ch.findall(n))\r\n",
    "        namecut.append(name)\r\n",
    "\r\n",
    "    data = { 'type':typecut ,'name':namecut,'article':topcut}\r\n",
    "    def1 = pds.DataFrame(data)\r\n",
    "\r\n",
    "    def1['type'] = def1['type'].apply(lambda x :  str(x)[1:-2].replace(\"'\",\"\").replace(\",\",\"\"))\r\n",
    "    def1['article'] = def1['article'].apply(lambda x :  str(x)[1:-2].replace(\"'\",\"\").replace(\",\",\"\"))\r\n",
    "    def1['key'] = def1['name'].astype(str)+' '+def1['type'].astype(str)+' '+def1['article'].astype(str)\r\n",
    "    return def1"
   ],
   "outputs": [],
   "metadata": {}
  },
  {
   "cell_type": "code",
   "execution_count": 3,
   "source": [
    "def count(item):\r\n",
    "    vectorizer = CountVectorizer()\r\n",
    "    X = vectorizer.fit_transform(item['key'])\r\n",
    "    tfidf = TfidfTransformer() \r\n",
    "    tf=tfidf.fit_transform(X)\r\n",
    "    word = vectorizer.get_feature_names() \r\n",
    "    \r\n",
    "    return tf"
   ],
   "outputs": [],
   "metadata": {}
  },
  {
   "cell_type": "code",
   "execution_count": 4,
   "source": [
    "def Accuracy(X,Y):\r\n",
    "    X_train, X_test, y_train, y_test = train_test_split(X, Y['type'].str[0:2], test_size=0.07659)\r\n",
    "    clf=KNeighborsClassifier(n_neighbors=51)\r\n",
    "    clf.fit(X_train,y_train)\r\n",
    "\r\n",
    "    y_pred = clf.predict(X_test)  \r\n",
    "    y_test=y_test.values\r\n",
    "\r\n",
    "    print(\"精準度：\",metrics.accuracy_score(y_test, y_pred))"
   ],
   "outputs": [],
   "metadata": {}
  },
  {
   "cell_type": "code",
   "execution_count": 5,
   "source": [
    "item = pds.read_csv('movie.csv')\r\n",
    "item =item.drop(labels=['Unnamed: 0'],axis='columns')\r\n",
    "def1 = cutvalue(item) \r\n",
    "tf = count(def1)\r\n",
    "Accuracy(tf,def1)"
   ],
   "outputs": [
    {
     "output_type": "stream",
     "name": "stderr",
     "text": [
      "Building prefix dict from the default dictionary ...\n",
      "Loading model from cache C:\\Users\\User\\AppData\\Local\\Temp\\jieba.cache\n",
      "Loading model cost 0.644 seconds.\n",
      "Prefix dict has been built successfully.\n"
     ]
    },
    {
     "output_type": "stream",
     "name": "stdout",
     "text": [
      "精準度： 0.724\n"
     ]
    }
   ],
   "metadata": {}
  }
 ],
 "metadata": {
  "orig_nbformat": 4,
  "language_info": {
   "name": "python",
   "version": "3.9.6",
   "mimetype": "text/x-python",
   "codemirror_mode": {
    "name": "ipython",
    "version": 3
   },
   "pygments_lexer": "ipython3",
   "nbconvert_exporter": "python",
   "file_extension": ".py"
  },
  "kernelspec": {
   "name": "python3",
   "display_name": "Python 3.9.6 64-bit"
  },
  "interpreter": {
   "hash": "2647ea34e536f865ab67ff9ddee7fd78773d956cec0cab53c79b32cd10da5d83"
  }
 },
 "nbformat": 4,
 "nbformat_minor": 2
}