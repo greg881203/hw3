{
 "cells": [
  {
   "cell_type": "code",
   "execution_count": null,
   "source": [
    "import re\r\n",
    "import pandas as pd\r\n",
    "from sklearn.feature_extraction.text import CountVectorizer\r\n",
    "import jieba\r\n",
    "import jieba.analyse\r\n",
    "from sklearn.feature_extraction.text import TfidfTransformer\r\n",
    "from sklearn.neighbors import KNeighborsClassifier\r\n",
    "from sklearn import metrics\r\n",
    "from sklearn.model_selection import train_test_split    #分割資料集"
   ],
   "outputs": [],
   "metadata": {}
  },
  {
   "cell_type": "markdown",
   "source": [
    "def cutvalue(df):\r\n",
    "    topcut = []\r\n",
    "    for n in df['簡介']:\r\n",
    "        top = jieba.analyse.extract_tags(n,topK=2)\r\n",
    "        topcut.append(top)\r\n",
    "\r\n",
    "    typecut = []\r\n",
    "    for n in df['類型']:\r\n",
    "        ch =re.compile(\"[\\u4e00-\\u9fa5]\")\r\n",
    "        seg_word =  \"\".join(ch.findall(n))\r\n",
    "        top = jieba.lcut(seg_word)\r\n",
    "        typecut.append(top)\r\n",
    "\r\n",
    "    namecut = []\r\n",
    "    for n in df['中文名稱']:\r\n",
    "        ch =re.compile(\"[\\u4e00-\\u9fa5]\")\r\n",
    "        name =  \"\".join(ch.findall(n))\r\n",
    "        namecut.append(name)\r\n",
    "\r\n",
    "    data = { 'type':typecut ,'name':namecut,'article':topcut}\r\n",
    "    def1 = pd.DataFrame(data)\r\n",
    "\r\n",
    "    def1['type'] = def1['type'].apply(lambda x :  str(x)[1:-2].replace(\"'\",\"\").replace(\",\",\"\"))\r\n",
    "    def1['article'] = def1['article'].apply(lambda x :  str(x)[1:-2].replace(\"'\",\"\").replace(\",\",\"\"))\r\n",
    "    def1['key'] = def1['name'].astype(str)+' '+def1['type'].astype(str)+' '+def1['article'].astype(str)\r\n",
    "    return def1"
   ],
   "metadata": {}
  }
 ],
 "metadata": {
  "orig_nbformat": 4,
  "language_info": {
   "name": "python"
  }
 },
 "nbformat": 4,
 "nbformat_minor": 2
}